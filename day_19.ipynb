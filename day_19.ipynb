{
 "cells": [
  {
   "attachments": {},
   "cell_type": "markdown",
   "metadata": {},
   "source": [
    "# chatbot"
   ]
  },
  {
   "cell_type": "code",
   "execution_count": 2,
   "metadata": {},
   "outputs": [],
   "source": [
    "import nltk\n",
    "from nltk.chat.util import Chat,reflections"
   ]
  },
  {
   "cell_type": "code",
   "execution_count": 2,
   "metadata": {},
   "outputs": [
    {
     "data": {
      "text/plain": [
       "{'i am': 'you are',\n",
       " 'i was': 'you were',\n",
       " 'i': 'you',\n",
       " \"i'm\": 'you are',\n",
       " \"i'd\": 'you would',\n",
       " \"i've\": 'you have',\n",
       " \"i'll\": 'you will',\n",
       " 'my': 'your',\n",
       " 'you are': 'I am',\n",
       " 'you were': 'I was',\n",
       " \"you've\": 'I have',\n",
       " \"you'll\": 'I will',\n",
       " 'your': 'my',\n",
       " 'yours': 'mine',\n",
       " 'you': 'me',\n",
       " 'me': 'you'}"
      ]
     },
     "execution_count": 2,
     "metadata": {},
     "output_type": "execute_result"
    }
   ],
   "source": [
    "reflections"
   ]
  },
  {
   "cell_type": "code",
   "execution_count": 20,
   "metadata": {},
   "outputs": [],
   "source": [
    "rules=[\n",
    "    #[tuple(question,list[answer])]\n",
    "    (r'aaj garmi (.*) h',['mujhe nahi pata %1 hai','mein kyo batau',],),\n",
    "    (r'how to (.*) NLTK',['you may go yo official doc',],),\n",
    "    (r'or batoo kuch naye taza khabar',['only mazzza','saja chal rahi h',],),\n",
    "]"
   ]
  },
  {
   "cell_type": "code",
   "execution_count": 5,
   "metadata": {},
   "outputs": [
    {
     "data": {
      "text/plain": [
       "tuple"
      ]
     },
     "execution_count": 5,
     "metadata": {},
     "output_type": "execute_result"
    }
   ],
   "source": [
    "m=('hii')\n",
    "type(m),\n",
    "n=('hello',)\n",
    "type(n)\n"
   ]
  },
  {
   "cell_type": "code",
   "execution_count": 10,
   "metadata": {},
   "outputs": [
    {
     "name": "stdout",
     "output_type": "stream",
     "text": [
      "Question aaj garmi(.*) h\n",
      "Answer ['mujhe nahi pata', 'mein kyo batau']\n",
      "\t mujhe nahi pata\n",
      "\t mein kyo batau\n",
      "------------------------------\n",
      "Question how to (.*) NLTK\n",
      "Answer ['you may go yo official doc']\n",
      "\t you may go yo official doc\n",
      "------------------------------\n",
      "Question or batoo kuch naye taza khabar\n",
      "Answer ['only mazzza', 'saja chal rahi h']\n",
      "\t only mazzza\n",
      "\t saja chal rahi h\n",
      "------------------------------\n"
     ]
    }
   ],
   "source": [
    "for que,ans in rules:\n",
    "    print('Question',que)\n",
    "    print('Answer',ans)\n",
    "    for a in ans:\n",
    "        print('\\t',a)\n",
    "    print('-'*30) "
   ]
  },
  {
   "cell_type": "code",
   "execution_count": 21,
   "metadata": {},
   "outputs": [],
   "source": [
    "cb=Chat(rules,reflections)\n",
    "#cb.respond(question)"
   ]
  },
  {
   "cell_type": "code",
   "execution_count": 22,
   "metadata": {},
   "outputs": [
    {
     "name": "stdout",
     "output_type": "stream",
     "text": [
      "mujhe nahi pata kyo hai\n"
     ]
    }
   ],
   "source": [
    "question=input('Apna swaal puchoo')\n",
    "resp=cb.respond(question)\n",
    "print(resp)"
   ]
  },
  {
   "cell_type": "code",
   "execution_count": 17,
   "metadata": {},
   "outputs": [
    {
     "name": "stdout",
     "output_type": "stream",
     "text": [
      "you may go yo official doc\n"
     ]
    }
   ],
   "source": [
    "cb.converse()"
   ]
  },
  {
   "cell_type": "code",
   "execution_count": 18,
   "metadata": {},
   "outputs": [],
   "source": [
    "import pyttsx3\n",
    "import speech_recognition as sp"
   ]
  },
  {
   "cell_type": "code",
   "execution_count": 19,
   "metadata": {},
   "outputs": [
    {
     "name": "stdout",
     "output_type": "stream",
     "text": [
      "Say\n",
      "could not recognise\n"
     ]
    }
   ],
   "source": [
    "spEng=pyttsx3.init()\n",
    "recognizer=sp.Recognizer()\n",
    "with sp.Microphone() as mic:\n",
    "    print('Say',end='')\n",
    "    audio = recognizer.listen(mic,phrase_time_limit=1)\n",
    "    try:\n",
    "        text=recognizer.recognize_google(audio)\n",
    "        print(text)\n",
    "        resp=cb.respond(text)\n",
    "        spEng.say(resp)\n",
    "    except Exception as err:\n",
    "        print('\\ncould not recognise')"
   ]
  },
  {
   "cell_type": "code",
   "execution_count": null,
   "metadata": {},
   "outputs": [],
   "source": [
    "# Regular Expression\n",
    "\n",
    "    # ()      Capture & group\n",
    "    # .       any character (except new line)\n",
    "    # *       zero or more occurances\n",
    "    # []      set of character\n",
    "    # a-z     all small alphabets\n",
    "    # A-Z     all capital alphabets\n",
    "    # 0-9     all number\n",
    "    # ^       starting with\n",
    "    # $       ending with\n",
    "    # ?       zero or one occurance only\n",
    "    # +       one or more occurances\n",
    "    # {}      exact no of occurances\n",
    "    # \\w      only word characters(alphabet,numberand underscore)\n",
    "    # \\W      not words characters"
   ]
  },
  {
   "attachments": {},
   "cell_type": "markdown",
   "metadata": {},
   "source": [
    "# flask"
   ]
  },
  {
   "cell_type": "code",
   "execution_count": null,
   "metadata": {},
   "outputs": [],
   "source": [
    "# flask -web framework\n",
    "#install"
   ]
  },
  {
   "cell_type": "code",
   "execution_count": 23,
   "metadata": {},
   "outputs": [],
   "source": [
    "import flask"
   ]
  },
  {
   "cell_type": "code",
   "execution_count": 1,
   "metadata": {},
   "outputs": [],
   "source": [
    "def specialWala(f):\n",
    "    def ekor():\n",
    "        print('Hi')\n",
    "        f()\n",
    "        print('bye')\n",
    "    return ekor"
   ]
  },
  {
   "cell_type": "code",
   "execution_count": 2,
   "metadata": {},
   "outputs": [],
   "source": [
    "def simple():\n",
    "    print('wow')"
   ]
  },
  {
   "cell_type": "code",
   "execution_count": 3,
   "metadata": {},
   "outputs": [
    {
     "name": "stdout",
     "output_type": "stream",
     "text": [
      "wow\n"
     ]
    }
   ],
   "source": [
    "simple()"
   ]
  },
  {
   "cell_type": "code",
   "execution_count": 4,
   "metadata": {},
   "outputs": [],
   "source": [
    "simple=specialWala(simple)"
   ]
  },
  {
   "cell_type": "code",
   "execution_count": 5,
   "metadata": {},
   "outputs": [
    {
     "name": "stdout",
     "output_type": "stream",
     "text": [
      "Hi\n",
      "wow\n",
      "bye\n"
     ]
    }
   ],
   "source": [
    "simple()"
   ]
  },
  {
   "cell_type": "code",
   "execution_count": 1,
   "metadata": {},
   "outputs": [
    {
     "ename": "SyntaxError",
     "evalue": "incomplete input (4292247513.py, line 1)",
     "output_type": "error",
     "traceback": [
      "\u001b[1;36m  Cell \u001b[1;32mIn[1], line 1\u001b[1;36m\u001b[0m\n\u001b[1;33m    @specialWala\u001b[0m\n\u001b[1;37m                ^\u001b[0m\n\u001b[1;31mSyntaxError\u001b[0m\u001b[1;31m:\u001b[0m incomplete input\n"
     ]
    }
   ],
   "source": [
    "@specialWala"
   ]
  },
  {
   "cell_type": "code",
   "execution_count": null,
   "metadata": {},
   "outputs": [],
   "source": []
  }
 ],
 "metadata": {
  "kernelspec": {
   "display_name": "Python 3",
   "language": "python",
   "name": "python3"
  },
  "language_info": {
   "codemirror_mode": {
    "name": "ipython",
    "version": 3
   },
   "file_extension": ".py",
   "mimetype": "text/x-python",
   "name": "python",
   "nbconvert_exporter": "python",
   "pygments_lexer": "ipython3",
   "version": "3.10.11"
  },
  "orig_nbformat": 4
 },
 "nbformat": 4,
 "nbformat_minor": 2
}
