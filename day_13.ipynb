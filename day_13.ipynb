{
 "cells": [
  {
   "cell_type": "code",
   "execution_count": 2,
   "metadata": {},
   "outputs": [],
   "source": [
    "import cv2"
   ]
  },
  {
   "cell_type": "code",
   "execution_count": 3,
   "metadata": {},
   "outputs": [],
   "source": [
    "img=cv2.imread('download.jpeg')\n",
    "img2=cv2.imread(\"download (1).jpeg\")\n",
    "#img=img[50:50+176,50:50+286,:]\n",
    "img2=img2[50:50+270,50:50+325,:]"
   ]
  },
  {
   "cell_type": "code",
   "execution_count": 4,
   "metadata": {},
   "outputs": [],
   "source": [
    "cv2.imshow('jaipur',img)\n",
    "cv2.waitKey(0)\n",
    "cv2.destroyAllWindows()\n",
    "#cv2.waitKey(1)\n"
   ]
  },
  {
   "cell_type": "code",
   "execution_count": 5,
   "metadata": {},
   "outputs": [
    {
     "data": {
      "text/plain": [
       "(270, 325, 3)"
      ]
     },
     "execution_count": 5,
     "metadata": {},
     "output_type": "execute_result"
    }
   ],
   "source": [
    "img.shape"
   ]
  },
  {
   "cell_type": "code",
   "execution_count": 6,
   "metadata": {},
   "outputs": [],
   "source": [
    "img2=cv2.imread(\"download (1).jpeg\")"
   ]
  },
  {
   "cell_type": "code",
   "execution_count": 7,
   "metadata": {},
   "outputs": [
    {
     "data": {
      "text/plain": [
       "(176, 286, 3)"
      ]
     },
     "execution_count": 7,
     "metadata": {},
     "output_type": "execute_result"
    }
   ],
   "source": [
    "img2.shape"
   ]
  },
  {
   "cell_type": "code",
   "execution_count": 8,
   "metadata": {},
   "outputs": [
    {
     "data": {
      "text/plain": [
       "((270, 325, 3), (176, 286, 3))"
      ]
     },
     "execution_count": 8,
     "metadata": {},
     "output_type": "execute_result"
    }
   ],
   "source": [
    "img.shape,img2.shape"
   ]
  },
  {
   "cell_type": "code",
   "execution_count": 9,
   "metadata": {},
   "outputs": [],
   "source": [
    "cv2.imshow('hawamahal',img2)\n",
    "cv2.waitKey(0)\n",
    "cv2.destroyAllWindows()"
   ]
  },
  {
   "cell_type": "code",
   "execution_count": 10,
   "metadata": {},
   "outputs": [],
   "source": [
    "alpha=1.5#contrast control\n",
    "beta=10 #brightness control\n",
    "adjusted=cv2.convertScaleAbs(img,alpha=alpha,beta=beta)\n",
    "cv2.imshow('adjusted',adjusted)\n",
    "cv2.waitKey()\n",
    "cv2.destroyAllWindows()"
   ]
  },
  {
   "cell_type": "code",
   "execution_count": 9,
   "metadata": {},
   "outputs": [],
   "source": [
    "def imshow(im):\n",
    "    cv2.imshow('Preview',im)\n",
    "    cv2.waitKey(0)\n",
    "    cv2.destroyAllWindows()"
   ]
  },
  {
   "cell_type": "code",
   "execution_count": 1,
   "metadata": {},
   "outputs": [
    {
     "ename": "NameError",
     "evalue": "name 'cv2' is not defined",
     "output_type": "error",
     "traceback": [
      "\u001b[1;31m---------------------------------------------------------------------------\u001b[0m",
      "\u001b[1;31mNameError\u001b[0m                                 Traceback (most recent call last)",
      "Cell \u001b[1;32mIn[1], line 1\u001b[0m\n\u001b[1;32m----> 1\u001b[0m added\u001b[39m=\u001b[39mcv2\u001b[39m.\u001b[39madd(img,img2)\n\u001b[0;32m      2\u001b[0m imshow(added)\n",
      "\u001b[1;31mNameError\u001b[0m: name 'cv2' is not defined"
     ]
    }
   ],
   "source": [
    "added=cv2.add(img,img2)\n",
    "imshow(added)"
   ]
  },
  {
   "cell_type": "code",
   "execution_count": 48,
   "metadata": {},
   "outputs": [],
   "source": [
    "result=cv2.resize(img,None,fx=2,fy=2,interpolation=cv2.INTER_CUBIC)"
   ]
  },
  {
   "cell_type": "code",
   "execution_count": 49,
   "metadata": {},
   "outputs": [
    {
     "data": {
      "text/plain": [
       "array([[[175, 197, 239],\n",
       "        [175, 197, 239],\n",
       "        [175, 197, 239],\n",
       "        ...,\n",
       "        [171, 193, 235],\n",
       "        [171, 193, 235],\n",
       "        [171, 193, 235]],\n",
       "\n",
       "       [[175, 197, 239],\n",
       "        [175, 197, 239],\n",
       "        [175, 197, 239],\n",
       "        ...,\n",
       "        [171, 193, 235],\n",
       "        [171, 193, 235],\n",
       "        [171, 193, 235]],\n",
       "\n",
       "       [[174, 196, 238],\n",
       "        [174, 196, 238],\n",
       "        [175, 197, 239],\n",
       "        ...,\n",
       "        [171, 193, 235],\n",
       "        [171, 193, 235],\n",
       "        [171, 193, 235]],\n",
       "\n",
       "       ...,\n",
       "\n",
       "       [[172, 194, 236],\n",
       "        [172, 194, 236],\n",
       "        [172, 194, 236],\n",
       "        ...,\n",
       "        [172, 194, 236],\n",
       "        [172, 194, 236],\n",
       "        [172, 194, 236]],\n",
       "\n",
       "       [[174, 196, 238],\n",
       "        [174, 196, 238],\n",
       "        [174, 196, 238],\n",
       "        ...,\n",
       "        [174, 196, 238],\n",
       "        [174, 196, 238],\n",
       "        [174, 196, 238]],\n",
       "\n",
       "       [[175, 197, 239],\n",
       "        [175, 197, 239],\n",
       "        [175, 197, 239],\n",
       "        ...,\n",
       "        [175, 197, 239],\n",
       "        [175, 197, 239],\n",
       "        [175, 197, 239]]], dtype=uint8)"
      ]
     },
     "execution_count": 49,
     "metadata": {},
     "output_type": "execute_result"
    }
   ],
   "source": [
    "result"
   ]
  },
  {
   "cell_type": "code",
   "execution_count": 52,
   "metadata": {},
   "outputs": [
    {
     "ename": "",
     "evalue": "",
     "output_type": "error",
     "traceback": [
      "\u001b[1;31mThe Kernel crashed while executing code in the the current cell or a previous cell. Please review the code in the cell(s) to identify a possible cause of the failure. Click <a href='https://aka.ms/vscodeJupyterKernelCrash'>here</a> for more info. View Jupyter <a href='command:jupyter.viewOutput'>log</a> for further details."
     ]
    }
   ],
   "source": [
    "cv2.imshow('hello',img)"
   ]
  },
  {
   "cell_type": "code",
   "execution_count": null,
   "metadata": {},
   "outputs": [],
   "source": []
  }
 ],
 "metadata": {
  "kernelspec": {
   "display_name": "Python 3",
   "language": "python",
   "name": "python3"
  },
  "language_info": {
   "codemirror_mode": {
    "name": "ipython",
    "version": 3
   },
   "file_extension": ".py",
   "mimetype": "text/x-python",
   "name": "python",
   "nbconvert_exporter": "python",
   "pygments_lexer": "ipython3",
   "version": "3.10.11"
  },
  "orig_nbformat": 4
 },
 "nbformat": 4,
 "nbformat_minor": 2
}
