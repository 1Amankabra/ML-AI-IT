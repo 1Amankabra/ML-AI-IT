{
 "cells": [
  {
   "cell_type": "code",
   "execution_count": 7,
   "metadata": {},
   "outputs": [],
   "source": [
    "#libray\n",
    "import numpy as np\n",
    "import matplotlib.pyplot as plt"
   ]
  },
  {
   "cell_type": "code",
   "execution_count": 9,
   "metadata": {},
   "outputs": [
    {
     "data": {
      "text/plain": [
       "array([10505, 13536,   293,  8913,  5509,  2142,  8948, 14153,  6999,\n",
       "       11943, 15806, 16768,  1603, 11939,  2704, 12682,   991,  4527,\n",
       "       10040,  9473])"
      ]
     },
     "execution_count": 9,
     "metadata": {},
     "output_type": "execute_result"
    }
   ],
   "source": [
    "y=np.random.randint(100,20000,20)\n",
    "y"
   ]
  },
  {
   "cell_type": "code",
   "execution_count": 32,
   "metadata": {},
   "outputs": [
    {
     "name": "stdout",
     "output_type": "stream",
     "text": [
      "[[ 1]\n",
      " [ 1]\n",
      " [ 1]\n",
      " [ 2]\n",
      " [ 2]\n",
      " [ 3]\n",
      " [ 3]\n",
      " [ 4]\n",
      " [ 4]\n",
      " [ 5]\n",
      " [ 5]\n",
      " [ 6]\n",
      " [ 6]\n",
      " [ 7]\n",
      " [ 7]\n",
      " [ 8]\n",
      " [ 8]\n",
      " [ 9]\n",
      " [ 9]\n",
      " [10]]\n",
      "[[10122]\n",
      " [15301]\n",
      " [12383]\n",
      " [22187]\n",
      " [35470]\n",
      " [41702]\n",
      " [33054]\n",
      " [44593]\n",
      " [37448]\n",
      " [42175]\n",
      " [58756]\n",
      " [52380]\n",
      " [69782]\n",
      " [60847]\n",
      " [75807]\n",
      " [63757]\n",
      " [85183]\n",
      " [76809]\n",
      " [88365]\n",
      " [83921]]\n"
     ]
    }
   ],
   "source": [
    "#x=np.random.randint(1,10,10)\n",
    "x=np.linspace(1,10,20,dtype=int).reshape(-1,1)# reshape because 2D array form\n",
    "y1=np.linspace(2000,80000,20,dtype=int)\n",
    "y2=np.random.randint(100,20000,20)\n",
    "y=np.add(y1,y2).reshape(-1,1)\n",
    "\n",
    "print(x)\n",
    "print(y)"
   ]
  },
  {
   "cell_type": "code",
   "execution_count": 13,
   "metadata": {},
   "outputs": [
    {
     "data": {
      "image/png": "[encoded data removed]",
      "text/plain": [
       "<Figure size 640x480 with 1 Axes>"
      ]
     },
     "metadata": {},
     "output_type": "display_data"
    }
   ],
   "source": [
    "plt.scatter(x,y)\n",
    "plt.show()"
   ]
  },
  {
   "cell_type": "code",
   "execution_count": 14,
   "metadata": {},
   "outputs": [
    {
     "name": "stdout",
     "output_type": "stream",
     "text": [
      "Collecting scikit-learn\n",
      "  Downloading scikit_learn-1.2.2-cp310-cp310-win_amd64.whl (8.3 MB)\n",
      "                                              0.0/8.3 MB ? eta -:--:--\n",
      "                                              0.1/8.3 MB 2.3 MB/s eta 0:00:04\n",
      "                                              0.1/8.3 MB 2.3 MB/s eta 0:00:04\n",
      "                                              0.1/8.3 MB 2.3 MB/s eta 0:00:04\n",
      "                                              0.2/8.3 MB 984.6 kB/s eta 0:00:09\n",
      "                                              0.2/8.3 MB 984.6 kB/s eta 0:00:09\n",
      "                                              0.2/8.3 MB 984.6 kB/s eta 0:00:09\n",
      "                                              0.2/8.3 MB 984.6 kB/s eta 0:00:09\n",
      "     -                                        0.2/8.3 MB 599.0 kB/s eta 0:00:14\n",
      "     -                                        0.3/8.3 MB 655.8 kB/s eta 0:00:13\n",
      "     -                                        0.3/8.3 MB 655.8 kB/s eta 0:00:13\n",
      "     -                                        0.3/8.3 MB 655.8 kB/s eta 0:00:13\n",
      "     -                                        0.3/8.3 MB 655.8 kB/s eta 0:00:13\n",
      "     -                                        0.3/8.3 MB 500.8 kB/s eta 0:00:16\n",
      "     -                                        0.3/8.3 MB 500.8 kB/s eta 0:00:16\n",
      "     -                                        0.3/8.3 MB 500.8 kB/s eta 0:00:16\n",
      "     -                                        0.3/8.3 MB 500.8 kB/s eta 0:00:16\n",
      "     -                                        0.3/8.3 MB 500.8 kB/s eta 0:00:16\n",
      "     -                                        0.4/8.3 MB 420.5 kB/s eta 0:00:19\n",
      "     -                                        0.4/8.3 MB 433.0 kB/s eta 0:00:19\n",
      "     -                                        0.4/8.3 MB 433.0 kB/s eta 0:00:19\n",
      "     -                                        0.4/8.3 MB 433.0 kB/s eta 0:00:19\n",
      "     -                                        0.4/8.3 MB 433.0 kB/s eta 0:00:19\n",
      "     -                                        0.4/8.3 MB 376.0 kB/s eta 0:00:21\n",
      "     --                                       0.5/8.3 MB 415.5 kB/s eta 0:00:19\n",
      "     --                                       0.5/8.3 MB 415.5 kB/s eta 0:00:19\n",
      "     --                                       0.5/8.3 MB 415.5 kB/s eta 0:00:19\n",
      "     --                                       0.5/8.3 MB 415.5 kB/s eta 0:00:19\n",
      "     --                                       0.5/8.3 MB 379.3 kB/s eta 0:00:21\n",
      "     --                                       0.5/8.3 MB 398.0 kB/s eta 0:00:20\n",
      "     --                                       0.5/8.3 MB 398.0 kB/s eta 0:00:20\n",
      "     --                                       0.5/8.3 MB 398.0 kB/s eta 0:00:20\n",
      "     --                                       0.5/8.3 MB 398.0 kB/s eta 0:00:20\n",
      "     --                                       0.6/8.3 MB 381.2 kB/s eta 0:00:21\n",
      "     --                                       0.6/8.3 MB 390.8 kB/s eta 0:00:20\n",
      "     --                                       0.6/8.3 MB 390.8 kB/s eta 0:00:20\n",
      "     --                                       0.6/8.3 MB 390.8 kB/s eta 0:00:20\n",
      "     --                                       0.6/8.3 MB 390.8 kB/s eta 0:00:20\n",
      "     --                                       0.6/8.3 MB 390.8 kB/s eta 0:00:20\n",
      "     ---                                      0.7/8.3 MB 382.0 kB/s eta 0:00:20\n",
      "     ---                                      0.7/8.3 MB 382.0 kB/s eta 0:00:20\n",
      "     ---                                      0.7/8.3 MB 382.0 kB/s eta 0:00:20\n",
      "     ---                                      0.7/8.3 MB 382.0 kB/s eta 0:00:20\n",
      "     ---                                      0.8/8.3 MB 376.8 kB/s eta 0:00:21\n",
      "     ---                                      0.8/8.3 MB 381.1 kB/s eta 0:00:20\n",
      "     ---                                      0.8/8.3 MB 381.1 kB/s eta 0:00:20\n",
      "     ---                                      0.8/8.3 MB 381.1 kB/s eta 0:00:20\n",
      "     ---                                      0.8/8.3 MB 381.1 kB/s eta 0:00:20\n",
      "     ---                                      0.8/8.3 MB 360.1 kB/s eta 0:00:21\n",
      "     ----                                     0.8/8.3 MB 370.7 kB/s eta 0:00:21\n",
      "     ----                                     0.8/8.3 MB 370.7 kB/s eta 0:00:21\n",
      "     ----                                     0.8/8.3 MB 370.7 kB/s eta 0:00:21\n",
      "     ----                                     0.8/8.3 MB 370.7 kB/s eta 0:00:21\n",
      "     ----                                     0.9/8.3 MB 354.8 kB/s eta 0:00:21\n",
      "     ----                                     0.9/8.3 MB 364.5 kB/s eta 0:00:21\n",
      "     ----                                     0.9/8.3 MB 364.5 kB/s eta 0:00:21\n",
      "     ----                                     0.9/8.3 MB 364.5 kB/s eta 0:00:21\n",
      "     ----                                     0.9/8.3 MB 364.5 kB/s eta 0:00:21\n",
      "     ----                                     1.0/8.3 MB 350.6 kB/s eta 0:00:21\n",
      "     ----                                     1.0/8.3 MB 352.3 kB/s eta 0:00:21\n",
      "     ----                                     1.0/8.3 MB 352.3 kB/s eta 0:00:21\n",
      "     ----                                     1.0/8.3 MB 352.3 kB/s eta 0:00:21\n",
      "     ----                                     1.0/8.3 MB 352.3 kB/s eta 0:00:21\n",
      "     ----                                     1.0/8.3 MB 334.8 kB/s eta 0:00:22\n",
      "     ----                                     1.0/8.3 MB 346.8 kB/s eta 0:00:21\n",
      "     ----                                     1.0/8.3 MB 346.8 kB/s eta 0:00:21\n",
      "     ----                                     1.0/8.3 MB 346.8 kB/s eta 0:00:21\n",
      "     ----                                     1.0/8.3 MB 346.8 kB/s eta 0:00:21\n",
      "     ----                                     1.0/8.3 MB 346.8 kB/s eta 0:00:21\n",
      "     -----                                    1.1/8.3 MB 340.6 kB/s eta 0:00:22\n",
      "     -----                                    1.1/8.3 MB 351.5 kB/s eta 0:00:21\n",
      "     ------                                   1.2/8.3 MB 377.6 kB/s eta 0:00:19\n",
      "     ------                                   1.3/8.3 MB 400.0 kB/s eta 0:00:18\n",
      "     -------                                  1.5/8.3 MB 427.8 kB/s eta 0:00:17\n",
      "     -------                                  1.5/8.3 MB 446.0 kB/s eta 0:00:16\n",
      "     -------                                  1.7/8.3 MB 475.4 kB/s eta 0:00:14\n",
      "     --------                                 1.8/8.3 MB 495.2 kB/s eta 0:00:14\n",
      "     --------                                 1.8/8.3 MB 514.0 kB/s eta 0:00:13\n",
      "     ---------                                1.9/8.3 MB 536.3 kB/s eta 0:00:12\n",
      "     ---------                                2.0/8.3 MB 549.0 kB/s eta 0:00:12\n",
      "     ---------                                2.1/8.3 MB 558.2 kB/s eta 0:00:12\n",
      "     ----------                               2.2/8.3 MB 573.4 kB/s eta 0:00:11\n",
      "     ----------                               2.3/8.3 MB 596.2 kB/s eta 0:00:11\n",
      "     -----------                              2.4/8.3 MB 615.5 kB/s eta 0:00:10\n",
      "     -----------                              2.5/8.3 MB 631.6 kB/s eta 0:00:10\n",
      "     ------------                             2.6/8.3 MB 650.2 kB/s eta 0:00:09\n",
      "     ------------                             2.7/8.3 MB 668.3 kB/s eta 0:00:09\n",
      "     -------------                            2.8/8.3 MB 691.2 kB/s eta 0:00:08\n",
      "     -------------                            2.9/8.3 MB 703.3 kB/s eta 0:00:08\n",
      "     --------------                           3.0/8.3 MB 717.4 kB/s eta 0:00:08\n",
      "     --------------                           3.1/8.3 MB 734.2 kB/s eta 0:00:08\n",
      "     ---------------                          3.2/8.3 MB 750.4 kB/s eta 0:00:07\n",
      "     ---------------                          3.3/8.3 MB 768.6 kB/s eta 0:00:07\n",
      "     ----------------                         3.4/8.3 MB 790.8 kB/s eta 0:00:07\n",
      "     -----------------                        3.5/8.3 MB 813.4 kB/s eta 0:00:06\n",
      "     -----------------                        3.7/8.3 MB 832.0 kB/s eta 0:00:06\n",
      "     ------------------                       3.8/8.3 MB 846.2 kB/s eta 0:00:06\n",
      "     ------------------                       3.9/8.3 MB 864.7 kB/s eta 0:00:06\n",
      "     -------------------                      4.0/8.3 MB 876.9 kB/s eta 0:00:05\n",
      "     -------------------                      4.1/8.3 MB 892.5 kB/s eta 0:00:05\n",
      "     --------------------                     4.2/8.3 MB 907.8 kB/s eta 0:00:05\n",
      "     --------------------                     4.4/8.3 MB 929.5 kB/s eta 0:00:05\n",
      "     ---------------------                    4.4/8.3 MB 942.8 kB/s eta 0:00:05\n",
      "     ---------------------                    4.6/8.3 MB 954.2 kB/s eta 0:00:04\n",
      "     ----------------------                   4.6/8.3 MB 961.9 kB/s eta 0:00:04\n",
      "     ----------------------                   4.8/8.3 MB 980.0 kB/s eta 0:00:04\n",
      "     -----------------------                  4.8/8.3 MB 985.2 kB/s eta 0:00:04\n",
      "     -----------------------                  4.9/8.3 MB 992.4 kB/s eta 0:00:04\n",
      "     ------------------------                 5.0/8.3 MB 1.0 MB/s eta 0:00:04\n",
      "     ------------------------                 5.2/8.3 MB 1.0 MB/s eta 0:00:04\n",
      "     -------------------------                5.3/8.3 MB 1.0 MB/s eta 0:00:03\n",
      "     --------------------------               5.4/8.3 MB 1.1 MB/s eta 0:00:03\n",
      "     ---------------------------              5.6/8.3 MB 1.1 MB/s eta 0:00:03\n",
      "     ---------------------------              5.8/8.3 MB 1.1 MB/s eta 0:00:03\n",
      "     ----------------------------             5.9/8.3 MB 1.1 MB/s eta 0:00:03\n",
      "     ----------------------------             6.0/8.3 MB 1.1 MB/s eta 0:00:03\n",
      "     -----------------------------            6.2/8.3 MB 1.1 MB/s eta 0:00:02\n",
      "     ------------------------------           6.3/8.3 MB 1.2 MB/s eta 0:00:02\n",
      "     -------------------------------          6.5/8.3 MB 1.2 MB/s eta 0:00:02\n",
      "     -------------------------------          6.6/8.3 MB 1.2 MB/s eta 0:00:02\n",
      "     --------------------------------         6.7/8.3 MB 1.2 MB/s eta 0:00:02\n",
      "     ---------------------------------        6.9/8.3 MB 1.2 MB/s eta 0:00:02\n",
      "     ---------------------------------        7.0/8.3 MB 1.2 MB/s eta 0:00:02\n",
      "     ----------------------------------       7.2/8.3 MB 1.3 MB/s eta 0:00:01\n",
      "     -----------------------------------      7.3/8.3 MB 1.3 MB/s eta 0:00:01\n",
      "     -----------------------------------      7.4/8.3 MB 1.3 MB/s eta 0:00:01\n",
      "     ------------------------------------     7.6/8.3 MB 1.3 MB/s eta 0:00:01\n",
      "     -------------------------------------    7.8/8.3 MB 1.3 MB/s eta 0:00:01\n",
      "     --------------------------------------   7.9/8.3 MB 1.3 MB/s eta 0:00:01\n",
      "     --------------------------------------   8.1/8.3 MB 1.4 MB/s eta 0:00:01\n",
      "     ---------------------------------------  8.3/8.3 MB 1.4 MB/s eta 0:00:01\n",
      "     ---------------------------------------- 8.3/8.3 MB 1.4 MB/s eta 0:00:00\n",
      "Requirement already satisfied: numpy>=1.17.3 in c:\\users\\hp\\appdata\\local\\packages\\pythonsoftwarefoundation.python.3.10_qbz5n2kfra8p0\\localcache\\local-packages\\python310\\site-packages (from scikit-learn) (1.24.2)\n",
      "Requirement already satisfied: scipy>=1.3.2 in c:\\users\\hp\\appdata\\local\\packages\\pythonsoftwarefoundation.python.3.10_qbz5n2kfra8p0\\localcache\\local-packages\\python310\\site-packages (from scikit-learn) (1.10.1)\n",
      "Requirement already satisfied: joblib>=1.1.1 in c:\\users\\hp\\appdata\\local\\packages\\pythonsoftwarefoundation.python.3.10_qbz5n2kfra8p0\\localcache\\local-packages\\python310\\site-packages (from scikit-learn) (1.2.0)\n",
      "Collecting threadpoolctl>=2.0.0 (from scikit-learn)\n",
      "  Downloading threadpoolctl-3.1.0-py3-none-any.whl (14 kB)\n",
      "Installing collected packages: threadpoolctl, scikit-learn\n",
      "Successfully installed scikit-learn-1.2.2 threadpoolctl-3.1.0\n"
     ]
    }
   ],
   "source": [
    "! python -m pip install scikit-learn"
   ]
  },
  {
   "cell_type": "code",
   "execution_count": 15,
   "metadata": {},
   "outputs": [],
   "source": [
    "from sklearn.linear_model import LinearRegression"
   ]
  },
  {
   "cell_type": "code",
   "execution_count": 16,
   "metadata": {},
   "outputs": [],
   "source": [
    "model=LinearRegression()#model in form of y=mx+c"
   ]
  },
  {
   "cell_type": "code",
   "execution_count": 33,
   "metadata": {},
   "outputs": [
    {
     "data": {
      "text/html": [
       "<style>#sk-container-id-2 {color: black;background-color: white;}#sk-container-id-2 pre{padding: 0;}#sk-container-id-2 div.sk-toggleable {background-color: white;}#sk-container-id-2 label.sk-toggleable__label {cursor: pointer;display: block;width: 100%;margin-bottom: 0;padding: 0.3em;box-sizing: border-box;text-align: center;}#sk-container-id-2 label.sk-toggleable__label-arrow:before {content: \"▸\";float: left;margin-right: 0.25em;color: #696969;}#sk-container-id-2 label.sk-toggleable__label-arrow:hover:before {color: black;}#sk-container-id-2 div.sk-estimator:hover label.sk-toggleable__label-arrow:before {color: black;}#sk-container-id-2 div.sk-toggleable__content {max-height: 0;max-width: 0;overflow: hidden;text-align: left;background-color: #f0f8ff;}#sk-container-id-2 div.sk-toggleable__content pre {margin: 0.2em;color: black;border-radius: 0.25em;background-color: #f0f8ff;}#sk-container-id-2 input.sk-toggleable__control:checked~div.sk-toggleable__content {max-height: 200px;max-width: 100%;overflow: auto;}#sk-container-id-2 input.sk-toggleable__control:checked~label.sk-toggleable__label-arrow:before {content: \"▾\";}#sk-container-id-2 div.sk-estimator input.sk-toggleable__control:checked~label.sk-toggleable__label {background-color: #d4ebff;}#sk-container-id-2 div.sk-label input.sk-toggleable__control:checked~label.sk-toggleable__label {background-color: #d4ebff;}#sk-container-id-2 input.sk-hidden--visually {border: 0;clip: rect(1px 1px 1px 1px);clip: rect(1px, 1px, 1px, 1px);height: 1px;margin: -1px;overflow: hidden;padding: 0;position: absolute;width: 1px;}#sk-container-id-2 div.sk-estimator {font-family: monospace;background-color: #f0f8ff;border: 1px dotted black;border-radius: 0.25em;box-sizing: border-box;margin-bottom: 0.5em;}#sk-container-id-2 div.sk-estimator:hover {background-color: #d4ebff;}#sk-container-id-2 div.sk-parallel-item::after {content: \"\";width: 100%;border-bottom: 1px solid gray;flex-grow: 1;}#sk-container-id-2 div.sk-label:hover label.sk-toggleable__label {background-color: #d4ebff;}#sk-container-id-2 div.sk-serial::before {content: \"\";position: absolute;border-left: 1px solid gray;box-sizing: border-box;top: 0;bottom: 0;left: 50%;z-index: 0;}#sk-container-id-2 div.sk-serial {display: flex;flex-direction: column;align-items: center;background-color: white;padding-right: 0.2em;padding-left: 0.2em;position: relative;}#sk-container-id-2 div.sk-item {position: relative;z-index: 1;}#sk-container-id-2 div.sk-parallel {display: flex;align-items: stretch;justify-content: center;background-color: white;position: relative;}#sk-container-id-2 div.sk-item::before, #sk-container-id-2 div.sk-parallel-item::before {content: \"\";position: absolute;border-left: 1px solid gray;box-sizing: border-box;top: 0;bottom: 0;left: 50%;z-index: -1;}#sk-container-id-2 div.sk-parallel-item {display: flex;flex-direction: column;z-index: 1;position: relative;background-color: white;}#sk-container-id-2 div.sk-parallel-item:first-child::after {align-self: flex-end;width: 50%;}#sk-container-id-2 div.sk-parallel-item:last-child::after {align-self: flex-start;width: 50%;}#sk-container-id-2 div.sk-parallel-item:only-child::after {width: 0;}#sk-container-id-2 div.sk-dashed-wrapped {border: 1px dashed gray;margin: 0 0.4em 0.5em 0.4em;box-sizing: border-box;padding-bottom: 0.4em;background-color: white;}#sk-container-id-2 div.sk-label label {font-family: monospace;font-weight: bold;display: inline-block;line-height: 1.2em;}#sk-container-id-2 div.sk-label-container {text-align: center;}#sk-container-id-2 div.sk-container {/* jupyter's `normalize.less` sets `[hidden] { display: none; }` but bootstrap.min.css set `[hidden] { display: none !important; }` so we also need the `!important` here to be able to override the default hidden behavior on the sphinx rendered scikit-learn.org. See: https://github.com/scikit-learn/scikit-learn/issues/21755 */display: inline-block !important;position: relative;}#sk-container-id-2 div.sk-text-repr-fallback {display: none;}</style><div id=\"sk-container-id-2\" class=\"sk-top-container\"><div class=\"sk-text-repr-fallback\"><pre>LinearRegression()</pre><b>In a Jupyter environment, please rerun this cell to show the HTML representation or trust the notebook. <br />On GitHub, the HTML representation is unable to render, please try loading this page with nbviewer.org.</b></div><div class=\"sk-container\" hidden><div class=\"sk-item\"><div class=\"sk-estimator sk-toggleable\"><input class=\"sk-toggleable__control sk-hidden--visually\" id=\"sk-estimator-id-2\" type=\"checkbox\" checked><label for=\"sk-estimator-id-2\" class=\"sk-toggleable__label sk-toggleable__label-arrow\">LinearRegression</label><div class=\"sk-toggleable__content\"><pre>LinearRegression()</pre></div></div></div></div></div>"
      ],
      "text/plain": [
       "LinearRegression()"
      ]
     },
     "execution_count": 33,
     "metadata": {},
     "output_type": "execute_result"
    }
   ],
   "source": [
    "model.fit(x,y)#wants 2D array form but in present it has linear so convert in reshape"
   ]
  },
  {
   "cell_type": "code",
   "execution_count": 34,
   "metadata": {},
   "outputs": [
    {
     "data": {
      "text/plain": [
       "array([[459021.68965517]])"
      ]
     },
     "execution_count": 34,
     "metadata": {},
     "output_type": "execute_result"
    }
   ],
   "source": [
    "grade=float(input(\"enter the grade\"))\n",
    "new_x=np.array([grade]).reshape(-1,1)\n",
    "model.predict(new_x)"
   ]
  },
  {
   "cell_type": "code",
   "execution_count": 35,
   "metadata": {},
   "outputs": [
    {
     "data": {
      "text/plain": [
       "array([[8178.57036347]])"
      ]
     },
     "execution_count": 35,
     "metadata": {},
     "output_type": "execute_result"
    }
   ],
   "source": [
    "model.coef_#m"
   ]
  },
  {
   "cell_type": "code",
   "execution_count": 37,
   "metadata": {},
   "outputs": [
    {
     "data": {
      "text/plain": [
       "array([9200.31966449])"
      ]
     },
     "execution_count": 37,
     "metadata": {},
     "output_type": "execute_result"
    }
   ],
   "source": [
    "model.intercept_#c"
   ]
  },
  {
   "cell_type": "code",
   "execution_count": 38,
   "metadata": {},
   "outputs": [],
   "source": [
    "y_pred=model.predict(x)"
   ]
  },
  {
   "cell_type": "code",
   "execution_count": 41,
   "metadata": {},
   "outputs": [
    {
     "data": {
      "image/png": "[encoded data removed]",
      "text/plain": [
       "<Figure size 640x480 with 1 Axes>"
      ]
     },
     "metadata": {},
     "output_type": "display_data"
    }
   ],
   "source": [
    "plt.scatter(x,y)\n",
    "plt.scatter(x,y_pred,color='red')\n",
    "plt.show()"
   ]
  },
  {
   "cell_type": "code",
   "execution_count": 42,
   "metadata": {},
   "outputs": [
    {
     "data": {
      "image/png": "[encoded data removed]",
      "text/plain": [
       "<Figure size 640x480 with 1 Axes>"
      ]
     },
     "metadata": {},
     "output_type": "display_data"
    }
   ],
   "source": [
    "plt.scatter(x,y)\n",
    "plt.plot(x,y_pred,color='red',linewidth=3)\n",
    "plt.show()"
   ]
  },
  {
   "cell_type": "code",
   "execution_count": 45,
   "metadata": {},
   "outputs": [
    {
     "name": "stdout",
     "output_type": "stream",
     "text": [
      "slope of model m [[8178.57036347]] intercept of model C [9200.31966449]\n"
     ]
    }
   ],
   "source": [
    "print(\"slope of model m\",model.coef_,\"intercept of model C\",model.intercept_)"
   ]
  },
  {
   "cell_type": "code",
   "execution_count": 36,
   "metadata": {},
   "outputs": [
    {
     "data": {
      "text/plain": [
       "array([[17378.89002796],\n",
       "       [17378.89002796],\n",
       "       [17378.89002796],\n",
       "       [25557.46039143],\n",
       "       [25557.46039143],\n",
       "       [33736.03075489],\n",
       "       [33736.03075489],\n",
       "       [41914.60111836],\n",
       "       [41914.60111836],\n",
       "       [50093.17148183],\n",
       "       [50093.17148183],\n",
       "       [58271.74184529],\n",
       "       [58271.74184529],\n",
       "       [66450.31220876],\n",
       "       [66450.31220876],\n",
       "       [74628.88257223],\n",
       "       [74628.88257223],\n",
       "       [82807.45293569],\n",
       "       [82807.45293569],\n",
       "       [90986.02329916]])"
      ]
     },
     "execution_count": 36,
     "metadata": {},
     "output_type": "execute_result"
    }
   ],
   "source": [
    "model.predict(x)"
   ]
  },
  {
   "cell_type": "code",
   "execution_count": 18,
   "metadata": {},
   "outputs": [
    {
     "data": {
      "text/plain": [
       "array([ 2.        , 10.66666667, 19.33333333, 28.        , 36.66666667,\n",
       "       45.33333333, 54.        , 62.66666667, 71.33333333, 80.        ])"
      ]
     },
     "execution_count": 18,
     "metadata": {},
     "output_type": "execute_result"
    }
   ],
   "source": [
    "a=np.linspace(2,80,10)\n",
    "a"
   ]
  },
  {
   "cell_type": "code",
   "execution_count": 19,
   "metadata": {},
   "outputs": [
    {
     "data": {
      "text/plain": [
       "1"
      ]
     },
     "execution_count": 19,
     "metadata": {},
     "output_type": "execute_result"
    }
   ],
   "source": [
    "a.ndim"
   ]
  },
  {
   "cell_type": "code",
   "execution_count": 25,
   "metadata": {},
   "outputs": [
    {
     "name": "stdout",
     "output_type": "stream",
     "text": [
      "[[ 2.        ]\n",
      " [10.66666667]\n",
      " [19.33333333]\n",
      " [28.        ]\n",
      " [36.66666667]\n",
      " [45.33333333]\n",
      " [54.        ]\n",
      " [62.66666667]\n",
      " [71.33333333]\n",
      " [80.        ]]\n"
     ]
    },
    {
     "data": {
      "text/plain": [
       "2"
      ]
     },
     "execution_count": 25,
     "metadata": {},
     "output_type": "execute_result"
    }
   ],
   "source": [
    "a=a.reshape(-1,1)\n",
    "print(a)\n",
    "a.ndim"
   ]
  },
  {
   "cell_type": "code",
   "execution_count": null,
   "metadata": {},
   "outputs": [],
   "source": []
  }
 ],
 "metadata": {
  "kernelspec": {
   "display_name": "Python 3",
   "language": "python",
   "name": "python3"
  },
  "language_info": {
   "codemirror_mode": {
    "name": "ipython",
    "version": 3
   },
   "file_extension": ".py",
   "mimetype": "text/x-python",
   "name": "python",
   "nbconvert_exporter": "python",
   "pygments_lexer": "ipython3",
   "version": "3.10.11"
  },
  "orig_nbformat": 4
 },
 "nbformat": 4,
 "nbformat_minor": 2
}
