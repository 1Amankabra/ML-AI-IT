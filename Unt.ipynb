{
 "cells": [
  {
   "cell_type": "code",
   "execution_count": 1,
   "metadata": {},
   "outputs": [],
   "source": [
    "import cv2, skimage\n",
    "\n",
    "vid = cv2.VideoCapture(0)\n",
    "\n",
    "while True:\n",
    "    flag, img = vid.read() # BGR\n",
    "    if flag:\n",
    "        gray_img = cv2.cvtColor(img, cv2.COLOR_BGR2GRAY)\n",
    "        blue_img = cv2.subtract(img[:,:,-3],gray_img)\n",
    "        th, blue_binary = cv2.threshold(blue_img, 55, 255, cv2.THRESH_BINARY)\n",
    "        blue_binary2 = skimage.morphology.remove_small_objects(\n",
    "                                blue_binary.astype(bool), 150\n",
    "                ).astype('uint8')\n",
    "        strel=cv2.getStructuringElement(cv2.MORPH_ELLIPSE, (10,10))\n",
    "        blue_binary3=cv2.dilate(blue_binary2.astype('uint8'),strel, iterations=1)\n",
    "        blue_binary4 = skimage.morphology.remove_small_holes(\n",
    "                                blue_binary3.astype(bool), 350\n",
    "                )\n",
    "        labels = skimage.measure.label(blue_binary4)\n",
    "        rp = skimage.measure.regionprops(labels, blue_binary4)\n",
    "        img_orig = img.copy()\n",
    "        if len(rp) > 0:\n",
    "            (y1,x1,y2,x2) = rp[0].bbox\n",
    "            cv2.rectangle(\n",
    "                img_orig,\n",
    "                pt1 = (x1,y1), pt2 = (x2,y2),\n",
    "                color = (255,0,0),\n",
    "                thickness=10\n",
    "            )\n",
    "        cv2.imshow('Preview',img_orig)\n",
    "        key = cv2.waitKey(1)\n",
    "        if key==ord('q'):\n",
    "            break\n",
    "\n",
    "cv2.destroyAllWindows()\n",
    "\n"
   ]
  },
  {
   "cell_type": "code",
   "execution_count": 2,
   "metadata": {},
   "outputs": [],
   "source": [
    "vid.release()  "
   ]
  },
  {
   "cell_type": "code",
   "execution_count": null,
   "metadata": {},
   "outputs": [],
   "source": []
  },
  {
   "cell_type": "code",
   "execution_count": null,
   "metadata": {},
   "outputs": [],
   "source": []
  }
 ],
 "metadata": {
  "kernelspec": {
   "display_name": "Python 3",
   "language": "python",
   "name": "python3"
  },
  "language_info": {
   "codemirror_mode": {
    "name": "ipython",
    "version": 3
   },
   "file_extension": ".py",
   "mimetype": "text/x-python",
   "name": "python",
   "nbconvert_exporter": "python",
   "pygments_lexer": "ipython3",
   "version": "3.10.11"
  },
  "orig_nbformat": 4
 },
 "nbformat": 4,
 "nbformat_minor": 2
}
